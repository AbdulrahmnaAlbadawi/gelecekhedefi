{
  "nbformat": 4,
  "nbformat_minor": 0,
  "metadata": {
    "colab": {
      "provenance": [],
      "authorship_tag": "ABX9TyNrxkq1MXOKrtLcqys+JRxZ",
      "include_colab_link": true
    },
    "kernelspec": {
      "name": "python3",
      "display_name": "Python 3"
    },
    "language_info": {
      "name": "python"
    }
  },
  "cells": [
    {
      "cell_type": "markdown",
      "metadata": {
        "id": "view-in-github",
        "colab_type": "text"
      },
      "source": [
        "<a href=\"https://colab.research.google.com/github/AbdulrahmnaAlbadawi/gelecekhedefi/blob/main/Sequential_and_Functional_API.ipynb\" target=\"_parent\"><img src=\"https://colab.research.google.com/assets/colab-badge.svg\" alt=\"Open In Colab\"/></a>"
      ]
    },
    {
      "cell_type": "markdown",
      "source": [
        "Sequential API (very convienient, not very flexible)"
      ],
      "metadata": {
        "id": "t5Uzw3E0Gwyb"
      }
    },
    {
      "cell_type": "code",
      "execution_count": 32,
      "metadata": {
        "id": "Cc_I0vmL0BB4",
        "colab": {
          "base_uri": "https://localhost:8080/"
        },
        "outputId": "d5e87bb4-ca75-4d1d-efbe-f1b40ea492c4"
      },
      "outputs": [
        {
          "output_type": "stream",
          "name": "stdout",
          "text": [
            "1875/1875 [==============================] - 5s 2ms/step\n",
            "(60000, 256)\n",
            "Model: \"model_3\"\n",
            "_________________________________________________________________\n",
            " Layer (type)                Output Shape              Param #   \n",
            "=================================================================\n",
            " input_29 (InputLayer)       [(None, 784)]             0         \n",
            "                                                                 \n",
            " first_layer (Dense)         (None, 512)               401920    \n",
            "                                                                 \n",
            " second_layer (Dense)        (None, 256)               131328    \n",
            "                                                                 \n",
            " dense_85 (Dense)            (None, 10)                2570      \n",
            "                                                                 \n",
            "=================================================================\n",
            "Total params: 535818 (2.04 MB)\n",
            "Trainable params: 535818 (2.04 MB)\n",
            "Non-trainable params: 0 (0.00 Byte)\n",
            "_________________________________________________________________\n"
          ]
        },
        {
          "output_type": "stream",
          "name": "stderr",
          "text": [
            "WARNING:absl:`lr` is deprecated in Keras optimizer, please use `learning_rate` or use the legacy optimizer, e.g.,tf.keras.optimizers.legacy.Adam.\n"
          ]
        },
        {
          "output_type": "stream",
          "name": "stdout",
          "text": [
            "None\n",
            "Epoch 1/5\n"
          ]
        },
        {
          "output_type": "stream",
          "name": "stderr",
          "text": [
            "/usr/local/lib/python3.10/dist-packages/keras/src/backend.py:5729: UserWarning: \"`sparse_categorical_crossentropy` received `from_logits=True`, but the `output` argument was produced by a Softmax activation and thus does not represent logits. Was this intended?\n",
            "  output, from_logits = _get_logits(\n"
          ]
        },
        {
          "output_type": "stream",
          "name": "stdout",
          "text": [
            "1875/1875 - 15s - loss: 0.1866 - accuracy: 0.9427 - 15s/epoch - 8ms/step\n",
            "Epoch 2/5\n",
            "1875/1875 - 13s - loss: 0.0789 - accuracy: 0.9754 - 13s/epoch - 7ms/step\n",
            "Epoch 3/5\n",
            "1875/1875 - 13s - loss: 0.0553 - accuracy: 0.9825 - 13s/epoch - 7ms/step\n",
            "Epoch 4/5\n",
            "1875/1875 - 13s - loss: 0.0408 - accuracy: 0.9868 - 13s/epoch - 7ms/step\n",
            "Epoch 5/5\n",
            "1875/1875 - 13s - loss: 0.0328 - accuracy: 0.9893 - 13s/epoch - 7ms/step\n",
            "313/313 - 1s - loss: 0.0800 - accuracy: 0.9765 - 810ms/epoch - 3ms/step\n"
          ]
        },
        {
          "output_type": "execute_result",
          "data": {
            "text/plain": [
              "[0.08001787215471268, 0.9764999747276306]"
            ]
          },
          "metadata": {},
          "execution_count": 32
        }
      ],
      "source": [
        "import os\n",
        "os.environ['TF_CPP_MIN_LOG_LEVEL'] = '2'\n",
        "\n",
        "import tensorflow as tf\n",
        "from tensorflow import keras\n",
        "from tensorflow.keras import layers\n",
        "from tensorflow.keras.datasets import mnist\n",
        "\n",
        "(x_train, y_train), (x_test, y_test)= mnist.load_data()\n",
        "\n",
        "x_train = x_train.reshape(-1, 28*28).astype(\"float32\") / 255.0\n",
        "x_test = x_test.reshape(-1, 28*28).astype(\"float32\") / 255.0\n",
        "\n",
        "# sequential API convienient, not very flexible\n",
        "model = keras.Sequential(\n",
        "    [\n",
        "        keras.Input(shape=(28*28)),\n",
        "        layers.Dense(512, activation='relu'),\n",
        "        layers.Dense(256, activation='relu'),\n",
        "        layers.Dense(10),\n",
        "    ]\n",
        ")\n",
        "\n",
        "model = keras.Sequential()\n",
        "model.add(keras.Input(shape=(784)))\n",
        "model.add(layers.Dense(512, activation='relu'))\n",
        "model.add(layers.Dense(256, activation='relu', name='my_layer'))\n",
        "model.add(layers.Dense(10))\n",
        "\n",
        "model= keras.Model(inputs=model.inputs,\n",
        "                   outputs=[model.get_layer('my_layer').output])\n",
        "\n",
        "feature= model.predict(x_train)\n",
        "print(feature.shape)\n",
        "\n",
        "\n",
        "# Functional API\n",
        "inputs = keras.Input(shape=(784))\n",
        "x= layers.Dense(512, activation='relu', name='first_layer')(inputs)\n",
        "x= layers.Dense(256, activation='relu', name='second_layer')(x)\n",
        "outputs= layers.Dense(10, activation='softmax')(x)\n",
        "model = keras.Model(inputs=inputs, outputs=outputs)\n",
        "\n",
        "print(model.summary())\n",
        "\n",
        "\n",
        "model.compile(\n",
        "    loss=keras.losses.SparseCategoricalCrossentropy(from_logits=True),\n",
        "    optimizer= keras.optimizers.Adam(lr=0.001),\n",
        "    metrics=[\"accuracy\"]\n",
        ")\n",
        "\n",
        "model.fit(x_train,y_train, batch_size=32, epochs=5, verbose=2)\n",
        "model.evaluate(x_test, y_test ,batch_size=32, verbose=2 )"
      ]
    },
    {
      "cell_type": "markdown",
      "source": [
        "Functional API (A bit more flexible)"
      ],
      "metadata": {
        "id": "rB42pO_eG7s2"
      }
    },
    {
      "cell_type": "code",
      "source": [
        "input = keras.Input(shape(784))\n",
        "x= layers.Dense(512, activation='relu')(inputs)\n",
        "x= layers.Dense(256, activation='relu')(x)\n",
        "outputs= layers.Dense(10, activation='softmax')(x)\n",
        "model = keras.Moedel(inputs=inputs, outputs=outputs)\n"
      ],
      "metadata": {
        "id": "gkb6oonaHFw8"
      },
      "execution_count": null,
      "outputs": []
    }
  ]
}